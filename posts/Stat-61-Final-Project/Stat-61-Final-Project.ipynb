{
  "cells": [
    {
      "cell_type": "raw",
      "metadata": {},
      "source": [
        "---\n",
        "title: \"Gaussian Mixture Models and Expectation-Maximization\"\n",
        "author: \"Abraham Porschet\"\n",
        "date: \"2023-12-10\"\n",
        "categories: [code, analysis]\n",
        "image: \"image.png\"\n",
        "---"
      ],
      "id": "46cb3411"
    },
    {
      "cell_type": "markdown",
      "metadata": {},
      "source": [
        "# Expectation Maximization\n",
        "\n",
        "The *Expectation Maximization (E-M) Algorithm* is an iterative approach to finding maximum likelihood estimates for latent variables (since the likelihoods we want to maximize are only indirectly available). It is comprised of an estimation step, which tries to estimate the unknown variables, and a maximization step, which then tries to optimize the parameters of the model to better explain the data.\n",
        "\n",
        "The unknown parameters are sometimes written as $\\phi$ or $\\Theta$, and we can call the latent, \"nuisance,\" variables $J$, and the observed data $U$. So, from above, the process can be roughly seen as \n",
        "$$ \\Theta^* = \\operatorname*{argmax}_{\\Theta} \\sum_{J\\in\\mathcal{J}^n} P(\\Theta, J|U) $$ \n",
        "Since this shows us maximizing the posterior probability of parameters $\\Theta$ given our data and we are summing over $J$ in order to marginalize out our latent variables (Dellaert, 2002).\n",
        "\n",
        "This process was first rigorously defined on the exponential family, where the probability density functions take the form \n",
        "$$ f(x|\\phi) = b(x)\\exp(\\phi t(x)^T/a(\\phi))$$\n",
        "\n",
        "where $\\phi$ is a $1\\times r$ parameter vector and $t(x)$ is a $1\\times r$ vector of sufficient statistics for the data. Our \"natural parameter\" for these exponential distributions is given by some $r\\times r$ linear transformation. \n",
        "\n",
        "To run the \\textbf{E-M} algorithm on this example, we first enter the expectation step, and take $t^{(p)}=E[t(x)|y,\\phi^{(p)}]$  with the $(p)$ denoting the $p^{th}$ cycle of the algorithm, trying to estimate the vector of sufficient statistics for the exponential distribution. \n",
        "\n",
        "The maximization step, is then taking the equation $E[t(x)|y,\\phi^{(p)}]=t^{(p)}$ and we call the solution to this equation $\\phi^{(p+1)}$. We then plug in $\\phi^{(p+1)}$ to the expectation step and keep iterating (Dempster *et al.* 1976). \n",
        "\n",
        "One of the coolest parts of this algorithm is that it actually converges to a local maximum almost every time (Dempster *et al.* 1976). Dempster, Laird, and Rubin may have been slighly optimistic about how often E-M converged, due to a misuse of the triangle inequality, but C.F. Jeff Wu found and corrected that mistake, and came out with a more concrete understanding of when the algorithm converges, and to what it converges (Wu, 1983). While the algorithm may not converge to a local maximum every time, the likelihood that the parameters the algorithm optimizes each step are better estimates increases after each cycle of the algorithm. And thus, for some E-M sequence $\\phi_p$, if $L(\\phi_p)$ is bounded above, then E-M converges to some $L^*$.\n",
        "\n",
        "In Dempster, Laird, and Rubin's seminal paper *Maximum Likelihood via the 'EM' Algorithm*, they enumerate the process detailed above, proved the convergence, and later on, proposed that E-M could be used to in *finite clusters*. This foreshadowed the most common usage of the algorithm, clustering, or more specifically, dividing unlabeled data into nice clusters. For example, if we know that our raw data is comprised of unique groups represented by different probability distributions, we can use the E-M algorithm to systematically change the parameters for the estimated distributions of these groups to maximize the probability that the data belongs to the proposed clustering.\n",
        "\n",
        "## Gaussian Mixture Modeling\n",
        "\n",
        "One of the most common usages of expectation maximization, and specifically clustering, is *Gaussian Mixture Modeling* (GMM) (Hasselblad 1966). This process is essentially assuming that each group you are trying to sort out is represented by a multivariate normal distribution. This is often a very convenient technique to use because things often actually do follow normal distributions because of the central limit theorem and because once we have clusters that are normal, it is much easier to do inference on the clusters. In industry and other settings where statisticians have to communicate their results to non-statisticians it is also helpful to be able to talk about results in the context of normal distributions.\n",
        "\n",
        "GMMs are used to observe clusters everywhere. They are used to create customer archetypes in retail, to better understand the different ways people shop, they are used in medical scenarios in order to identify types of tumors for cancer detection.\n",
        "\n",
        "### Example\n"
      ],
      "id": "e78ed886"
    },
    {
      "cell_type": "code",
      "metadata": {},
      "source": [
        "#| echo: false\n",
        "from sklearn.mixture import GaussianMixture\n",
        "from sklearn.datasets import make_blobs\n",
        "from sklearn.preprocessing import StandardScaler\n",
        "import matplotlib.pyplot as plt \n",
        "import pandas as pd \n",
        "import numpy as np\n",
        "from numpy import random\n",
        "from urllib.request import urlopen\n",
        "from bs4 import BeautifulSoup\n",
        "import seaborn as sns \n",
        "from sklearn.metrics import silhouette_score, silhouette_samples\n",
        "from sklearn.decomposition import PCA\n",
        "from sklearn.metrics import pairwise_distances_argmin_min\n",
        "import requests"
      ],
      "id": "df95bdf7",
      "execution_count": null,
      "outputs": []
    },
    {
      "cell_type": "markdown",
      "metadata": {},
      "source": [
        "For a flavor of the effectiveness and accuracy of the algorithm, I will make a set of five blobs of data, each with a center, and then I will show how accurately the algorithm can cluster the data into the blobs that created the underlying data.\n"
      ],
      "id": "38e4cf3a"
    },
    {
      "cell_type": "code",
      "metadata": {},
      "source": [
        "#| echo: false\n",
        "#set a random seed so that we actually get clusters that kind of look like separate clusters\n",
        "random.seed(195)\n",
        "x, _ = make_blobs(n_samples=450, centers=5, cluster_std=1.84)\n",
        "plt.figure(figsize=(8, 6))\n",
        "plt.scatter(x[:,0], x[:,1])\n",
        "plt.show() "
      ],
      "id": "ba4bdc7e",
      "execution_count": null,
      "outputs": []
    },
    {
      "cell_type": "markdown",
      "metadata": {},
      "source": [
        "Now we fit the algorithm with the prior understanding that the data is made of five clusters of approximately normal data.\n"
      ],
      "id": "3538cc6e"
    },
    {
      "cell_type": "code",
      "metadata": {},
      "source": [
        "#| output: false\n",
        "#| echo: false\n",
        "gm = GaussianMixture(n_components=5).fit(x)\n",
        "\n",
        "gm.get_params() \n",
        "\n",
        "{'covariance_type': 'full',\n",
        " 'init_params': 'kmeans',\n",
        " 'max_iter': 100,\n",
        " 'means_init': None,\n",
        " 'n_components': 5,\n",
        " 'n_init': 1,\n",
        " 'precisions_init': None,\n",
        " 'random_state': None,\n",
        " 'reg_covar': 1e-06,\n",
        " 'tol': 0.001,\n",
        " 'verbose': 0,\n",
        " 'verbose_interval': 10,\n",
        " 'warm_start': False,\n",
        " 'weights_init': None} "
      ],
      "id": "d17a4dd8",
      "execution_count": null,
      "outputs": []
    },
    {
      "cell_type": "markdown",
      "metadata": {},
      "source": [
        "We next fit the model and let it learn from the data, in the next plot, we plot the centers that the data came up with, and on the graph after that we will color each of the clusters the algorithm identified uniquely.\n"
      ],
      "id": "7a4582ce"
    },
    {
      "cell_type": "code",
      "metadata": {},
      "source": [
        "#| echo: false\n",
        "centers = gm.means_\n",
        "plt.figure(figsize=(8, 6))\n",
        "plt.scatter(x[:,0], x[:,1], label=\"data\")\n",
        "plt.scatter(centers[:,0], centers[:,1],c='r', label=\"centers\")\n",
        "plt.legend()\n",
        "plt.show() "
      ],
      "id": "ae7c99df",
      "execution_count": null,
      "outputs": []
    },
    {
      "cell_type": "code",
      "metadata": {},
      "source": [
        "#| echo: false\n",
        "pred = gm.predict(x)    \n",
        "\n",
        "df = pd.DataFrame({'x':x[:,0], 'y':x[:,1], 'label':pred})\n",
        "groups = df.groupby('label')\n",
        "\n",
        "ig, ax = plt.subplots()\n",
        "for name, group in groups:\n",
        "    ax.scatter(group.x, group.y, label=name)\n",
        "\n",
        "ax.legend()\n",
        "plt.show() "
      ],
      "id": "69e01ccf",
      "execution_count": null,
      "outputs": []
    },
    {
      "cell_type": "markdown",
      "metadata": {},
      "source": [
        "The accuracy is great! This problem wasn't terribly difficult, but it is better at understanding 'groups' of things than other classification methods in statistics and similar fields. Since many situations don't have linearly separable data, like the example above, clustering models can be a great choice over other models that are useful in other situations, such as regression models (which are sometimes used for clssification in separable cases, i.e. gentoo penguin dataset).\n",
        "\n",
        "Consider a dataset with millions of points and possibly hundreds or thousands of dimensions. E-M allows for insights in incredibly complex problems like very sensitive anomaly detection for genetic disorders by clustering genes or proteins.\n",
        "\n",
        "## The NBA\n",
        "\n",
        "![](nbaPic.jpeg){width=\"50%\"}\n",
        "\n",
        "Basketball is changing. Players like Stephen Curry have changed perceptions around what a point guard is supposed to be, Nikola Jokic is reinventing the center position, and some teams are playing with centers who are shorter than 6'5\". Another even bigger change is the advent of extremely tall players playing seemingly positionless basketball, the trend started by players such as Kevin Durant and Kristaps Porzingis, and continued by younger players like Chet Holmgren and Victor Wembanyama.\n",
        "\n",
        "People are playing basketball differently. To effectively understand the game, the old labels of point guard, shooting guard, center, power forward, and small forward don't seem to suffice, which means that we want to find new labels for positions in order to regroup players to better understand modern roster construction.\n",
        "\n",
        "This seems to be a problem uniquely well suited to clustering. I plan on looking at a few things, how the clusters of players in the modern NBA compare to the positions that players are assigned to. Secondly, I am curious if the NBA has become more specialized, i.e. if there are more than five positions, and players are acquired and used for more specific purposes."
      ],
      "id": "9a9da2da"
    },
    {
      "cell_type": "code",
      "metadata": {},
      "source": [
        "#| echo: false\n",
        "#| output: false\n",
        "urls = ['https://www.basketball-reference.com/leagues/NBA_2022_per_game.html', 'https://www.basketball-reference.com/leagues/NBA_2023_per_game.html', 'https://www.basketball-reference.com/leagues/NBA_2021_per_game.html', 'https://www.basketball-reference.com/leagues/NBA_2019_per_game.html', 'https://www.basketball-reference.com/leagues/NBA_2018_per_game.html', 'https://www.basketball-reference.com/leagues/NBA_2017_per_game.html', 'https://www.basketball-reference.com/leagues/NBA_2016_per_game.html']\n",
        "def scrape_basketball_data(url):\n",
        "    html = urlopen(url)\n",
        "    org_html = BeautifulSoup(html)\n",
        "    org_html.findAll('tr', limit=2)\n",
        "\n",
        "    headers = [th.getText() for th in org_html.findAll('tr', limit=2)[0].findAll('th')]\n",
        "    headers = headers[1:]\n",
        "\n",
        "    rows = org_html.findAll('tr')[1:]\n",
        "    player_stats = [[td.getText() for td in rows[i].findAll('td')] for i in range(len(rows))]\n",
        "    data = pd.DataFrame(player_stats, columns = headers)\n",
        "    \n",
        "    return data\n",
        "\n",
        "def aggregate_data_from_urls(urls):\n",
        "    all_dataframes = []\n",
        "    for url in urls:\n",
        "        df = scrape_basketball_data(url)\n",
        "        all_dataframes.append(df)\n",
        "    \n",
        "    combined_data = pd.concat(all_dataframes, ignore_index=True)\n",
        "    combined_data = combined_data.apply(pd.to_numeric, errors='ignore')\n",
        "    \n",
        "    aggregated_data = combined_data.groupby('Player', as_index=False).mean()\n",
        "    return aggregated_data\n",
        "\n",
        "df = aggregate_data_from_urls(urls)\n",
        "df = df[df['MP']>=10]\n",
        "df"
      ],
      "id": "036bb555",
      "execution_count": null,
      "outputs": []
    },
    {
      "cell_type": "markdown",
      "metadata": {},
      "source": [
        "There are a few instances of the same player showing multiple times in the dataframe since people were traded and played for different teams throughout the season, so I took the averages of all of their values to create a set of stats for the season for them.\n"
      ],
      "id": "b9faf908"
    },
    {
      "cell_type": "code",
      "metadata": {},
      "source": [
        "#| echo: false\n",
        "#| output: false\n",
        "df=df.drop(columns=['Age', 'G', 'GS', '2P', '3P', 'TRB', 'FT','PF', 'FG', 'MP'], axis=1)"
      ],
      "id": "0dab6583",
      "execution_count": null,
      "outputs": []
    },
    {
      "cell_type": "markdown",
      "metadata": {},
      "source": [
        "So now that we have this data, I will take all of the features besides position, age, team, games played, games started (As well as some irrelevant features, i.e. those that are just linear combinations of other features) and will use them to create clusters so we can start to draw some conclusions. We should feel pretty good about modeling the clusters as gaussian since there are over eight hundred players that played in 2022 which means we should feel alright about assuming normality across each predictor, especially since we have data across 6 seasons.\n"
      ],
      "id": "a5f4e7e9"
    },
    {
      "cell_type": "code",
      "metadata": {},
      "source": [
        "#| echo: false\n",
        "#| output: false\n",
        "X = df.copy(deep=True)\n",
        "\n",
        "X.replace('', np.nan, inplace=True)\n",
        "# Drop rows with NaN values\n",
        "X.dropna(inplace=True)\n",
        "names = X[\"Player\"]\n",
        "X = X.drop(\"Player\", axis = 1)"
      ],
      "id": "03f2f43c",
      "execution_count": null,
      "outputs": []
    },
    {
      "cell_type": "code",
      "metadata": {},
      "source": [
        "#| echo: false\n",
        "n_components = np.arange(1, 15)\n",
        "models = [GaussianMixture(n, covariance_type='full', random_state=0).fit(X)\n",
        "          for n in n_components]\n",
        "\n",
        "plt.plot(n_components, [m.bic(X) for m in models], label='BIC')\n",
        "plt.plot(n_components, [m.aic(X) for m in models], label='AIC')\n",
        "plt.legend(loc='best')\n",
        "plt.xlabel('n_components');"
      ],
      "id": "c9384011",
      "execution_count": null,
      "outputs": []
    },
    {
      "cell_type": "markdown",
      "metadata": {},
      "source": [
        "This plot shows metrics *Bayesian Information Criterion* (BIC) and *Aikake Information Criterion* (AIC) plotted against the number of clusters to see which number of clusters would most likely produce the data while also penalizing overfitting. The lower the value the better fit the model is for the data. Both of the metrics are based on the likelihood function for the mixture models and the main difference between them is that BIC punishes models with more parameters more than AIC, as we can see from the plot, since the BIC is minimized at right around 4 clusters and AIC continues to decrease as the number of components reaches 15. The AIC is equal to $2k-2\\ln(L)$ and the BIC is equal to $k\\ln(n)-2\\ln(L)$ where $k$ is the number of parameters. So as the likelihood that the model proposed (dependent on the number of clusters) has a higher likelihood of explaining the data, the AIC and BIC both decrease. \n",
        "\n",
        "This graph essentially says that the model that explains the data the best without overfitting has 4 clusters (potentially saying that the NBA is *less* specialized than in the past).\n"
      ],
      "id": "57199532"
    },
    {
      "cell_type": "code",
      "metadata": {},
      "source": [
        "#| echo: false\n",
        "model = GaussianMixture(n_components=4, random_state=0).fit(X)"
      ],
      "id": "b36aeb5a",
      "execution_count": null,
      "outputs": []
    },
    {
      "cell_type": "code",
      "metadata": {},
      "source": [
        "#| echo: false\n",
        "#| output: false\n",
        "preds = pd.Series(model.predict(X))\n",
        "X[\"Cluster\"] = preds.values\n",
        "X[\"Name\"] = names\n",
        "Z = X.copy(deep=True)"
      ],
      "id": "7d45a9c1",
      "execution_count": null,
      "outputs": []
    },
    {
      "cell_type": "code",
      "metadata": {},
      "source": [
        "#| echo: false\n",
        "#| output: false\n",
        "Y = X.drop('Cluster', axis = 1)\n",
        "cluster_assignments = model.predict(Y)\n",
        "\n",
        "# Get the cluster centers from the fitted model\n",
        "cluster_centers = model.means_  # This will give the centers of each cluster\n",
        "\n",
        "# Calculate distances between each player and the cluster centers\n",
        "distances_to_centers = np.linalg.norm(Y - cluster_centers[cluster_assignments], axis=1)\n",
        "\n",
        "# Find the indices of players closest to each cluster center\n",
        "closest_players_indices = np.argmin(distances_to_centers, axis=0)\n",
        "\n",
        "# Get the details of players closest to each cluster center\n",
        "closest_players = Y.iloc[closest_players_indices]"
      ],
      "id": "46ba46fc",
      "execution_count": null,
      "outputs": []
    },
    {
      "cell_type": "code",
      "metadata": {},
      "source": [
        "#| echo: false\n",
        "#| output: false\n",
        "X_numeric = X.select_dtypes(include='number')\n",
        "\n",
        "# Scale the numeric columns\n",
        "scaler = StandardScaler()\n",
        "X_scaled = scaler.fit_transform(X_numeric)\n",
        "\n",
        "# Convert back to DataFrame (keeping the column names)\n",
        "X_scaled_df = pd.DataFrame(X_scaled, columns=X_numeric.columns)\n",
        "\n",
        "# Add the cluster assignments to your scaled data\n",
        "X_scaled_df['Cluster'] = cluster_assignments\n",
        "\n",
        "# Melt the DataFrame to create a long-form dataset for violin plot\n",
        "melted_data_scaled = X_scaled_df.melt(id_vars='Cluster', var_name='Statistic', value_name='Value')\n",
        "\n",
        "# Plotting separate violin plots for each statistic\n",
        "g = sns.FacetGrid(melted_data_scaled, col='Statistic', col_wrap=3, height=4)\n",
        "g.map(sns.violinplot, 'Cluster', 'Value', palette='Set3')\n",
        "g.set_xticklabels(rotation=45)\n",
        "g.set_titles('{col_name}')\n",
        "plt.tight_layout()\n",
        "plt.show()"
      ],
      "id": "f9ce935a",
      "execution_count": null,
      "outputs": []
    },
    {
      "cell_type": "code",
      "metadata": {},
      "source": [
        "#| echo: false\n",
        "#| output: false\n",
        "\"\"\"X_numeric = X.select_dtypes(include='number')\n",
        "\n",
        "# Scale the numeric columns\n",
        "scaler = StandardScaler()\n",
        "X_scaled = scaler.fit_transform(X_numeric)\n",
        "\n",
        "# Convert back to DataFrame (keeping the column names)\n",
        "X_scaled_df = pd.DataFrame(X_scaled, columns=X_numeric.columns)\n",
        "\n",
        "# Add the cluster assignments to your scaled data\n",
        "X_scaled_df['Cluster'] = cluster_assignments\n",
        "\n",
        "# Iterate through each statistic and create individual violin plots\n",
        "for stat in X_numeric.columns:\n",
        "    # Create melted data for the current statistic\n",
        "    melted_data_stat = X_scaled_df.melt(id_vars='Cluster', value_vars=stat, var_name='Statistic', value_name='Value')\n",
        "\n",
        "    # Plot the violin plot for the current statistic\n",
        "    plt.figure(figsize=(6, 4))  # Adjust the figure size if needed\n",
        "    sns.violinplot(x='Cluster', y='Value', data=melted_data_stat, palette='Set3')\n",
        "    plt.title(f'Violin Plot for {stat}')\n",
        "    plt.xlabel('Cluster')\n",
        "    plt.ylabel('Scaled Value')\n",
        "    plt.xticks(rotation=45)\n",
        "    plt.tight_layout()\n",
        "    plt.show()\"\"\"\n",
        "    #this was used to generate the violin plots I threw all over the end of this paper"
      ],
      "id": "0e0278af",
      "execution_count": null,
      "outputs": []
    },
    {
      "cell_type": "markdown",
      "metadata": {},
      "source": [
        "### Results\n",
        "\n",
        "The following violin plots (which have been scaled) show the distributions for each cluster for each statistic. \n",
        "\n",
        "::: {layout-nrow=1}\n",
        "![](2PA.png)\n",
        "\n",
        "![](3PA.png)\n",
        ":::\n",
        "Cluster 2 obviously attempts what looks like significantly more two point shots and three point shots. Cluster 1 attempts the second most 2 pointers while also completing the least three pointers which contrasts with Cluster 3 which attempts the least two pointers while attempting more three pointers compared to the other clusters.\n",
        "\n",
        ":::{layout-nrow=1}\n",
        "![](FTA.png)\n",
        "\n",
        "![](PTS.png)\n",
        ":::\n",
        "\n",
        "From the first two plots, it makes sense that Cluster 2, on average, scores the most points because they attempt the most 2PT and 3PT shots. Clusters 0 and 1 score the next most points on average, probably due to the larger number of 2PT attempts by Cluster 1 and the larger number of 3PT attempts from Cluster 0. Cluster 0 has a much larger mean number of free throws attempted while Cluster 3 has a significantly lower number of free throws attempted.\n",
        "\n",
        "This leads us to start to see a picture being painted about these players, Cluster 2 in particular has the ball a lot of the time, they score the most points, they shoot the most free throws, they are high usage players. \n",
        "\n",
        ":::{layout-nrow=1}\n",
        "![](TOV.png)\n",
        "\n",
        "![](AST.png)\n",
        ":::\n",
        "\n",
        "Cluster 2 also has the most turnovers on average, \n"
      ],
      "id": "81f0a6d6"
    },
    {
      "cell_type": "code",
      "metadata": {},
      "source": [
        "closest_players_indices, _ = pairwise_distances_argmin_min(X_scaled, cluster_centers)\n",
        "\n",
        "# Assuming 'X' has a 'Player' column\n",
        "closest_players = X.loc[closest_players_indices]\n",
        "\n",
        "# Print the players closest to each cluster center\n",
        "for i, player_index in enumerate(closest_players_indices):\n",
        "    player_name = X.loc[player_index, 'Player']\n",
        "    print(f\"Cluster {i} Center: Player with stats closest: {player_name}\")"
      ],
      "id": "96b1222d",
      "execution_count": null,
      "outputs": []
    }
  ],
  "metadata": {
    "kernelspec": {
      "name": "python3",
      "language": "python",
      "display_name": "Python 3 (ipykernel)"
    }
  },
  "nbformat": 4,
  "nbformat_minor": 5
}