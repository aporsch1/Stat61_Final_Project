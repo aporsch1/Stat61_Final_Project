{
  "cells": [
    {
      "cell_type": "raw",
      "metadata": {},
      "source": [
        "---\n",
        "title: \"Gaussian Mixture Models and Expectation-Maximization\"\n",
        "author: \"Abraham Porschet\"\n",
        "date: \"2023-12-10\"\n",
        "categories: [code, analysis]\n",
        "image: \"image.png\"\n",
        "---"
      ],
      "id": "797e7626"
    },
    {
      "cell_type": "markdown",
      "metadata": {},
      "source": [
        "# Expectation Maximization\n",
        "\n",
        "The *Expectation Maximization (E-M) Algorithm* is an iterative approach to find maximum likelihood estimates for latent variables (since the things we want to maximize are only indirectly available). It is comprised of an estimation step, which tries to estimate the unknown variables, and a maximization step, which then tries to optimize the parameters of the model to better explain the data.\n",
        "\n",
        "The unknown parameters are sometimes written as $\\phi$ or $\\Theta$, and we can call the latent, \"nuisance,\" variables $J$, and the observed data $U$. So, from above, the process can be roughly seen as \n",
        "$$ \\Theta^* = \\operatorname*{argmax}_{\\Theta} \\sum_{J\\in\\mathcal{J}^n} P(\\Theta, J|U) $$ \n",
        "Since this shows us maximizing the posterior probability of parameters $\\Theta$ given our data and we are summing over $J$ in order to marginalize out our latent variables (Dellaert, 2002).\n",
        "\n",
        "This process was first rigorously defined on the exponential family, where the probability density functions take the form \n",
        "$$ f(x|\\phi) = b(x)\\exp(\\phi t(x)^T/a(\\phi))$$\n",
        "\n",
        "where $\\phi$ is a $1\\times r$ parameter vector and $t(x)$ is a $1\\times r$ vector of sufficient statistics for the data. Our \"natural parameter\" for these exponential distributions is given by some $r\\times r$ linear transformation. \n",
        "\n",
        "To run the \\textbf{E-M} algorithm on this example, we first enter the expectation step, and take $t^{(p)}=E[t(x)|y,\\phi^{(p)}]$  with the $(p)$ denoting the $p^{th}$ cycle of the algorithm, trying to estimate the vector of sufficient statistics for the exponential distribution. \n",
        "\n",
        "The maximization step, is then taking the equation $E[t(x)|y,\\phi^{(p)}]=t^{(p)}$ and we call the solution to this equation $\\phi^{(p+1)}$. We then plug in $\\phi^{(p+1)}$ to the expectation step and keep iterating. \n",
        "\n",
        "This looks nice, and seems like it could work, but if you are anything like me, you might wonder how we decide when to stop. Possibly the coolest part of this algorithm is that it actually converges to a local maximum every time (Dempster *et al.* 1976). Since it always converges to a local maximum, it means that if we \"guess\" a decent parameter space to start off the algorithm, we will converge to what is likely to be a very solid set of estimates.\n",
        "\n",
        "In Dempster, Laird, and Rubin's seminal paper *Maximum Likelihood via the 'EM' Algorithm*, they enumerate the process detailed above, proved the convergence, and later on, proposed that E-M could be used to in *finite clusters*. This foreshadowed the most common usage of the algorithm, clustering, or more specifically, dividing unlabeled data into nice clusters. For example, if we know that our raw data is comprised of unique groups represented by different probability distributions, we can use the E-M algorithm to change the parameters for the estimated distributions of these groups to maximize the probability that the data belongs to the proposed clustering.\n",
        "\n",
        "## Gaussian Mixture Modeling\n",
        "\n",
        "One of the most common usages of expectation maximization, and specifically clustering, is *Gaussian Mixture Modeling* (GMM) (Hasselblad 1966). This process is essentially assuming that each group you are trying to sort out is represented by a normal distribution. This is often a very convenient technique to use because things often actually do follow normal distributions because of the central limit theorem (everyone's favorite statistics theorem) and because once we have clusters that are normal, it is much easier to do inference on the clusters and talk about them with people who don't know as much about statistics because gaussian distributions are so well understood.\n",
        "\n",
        "GMMs are used to observe clusters everywhere. They are used to create customer archetypes in retail, to better understand the different ways people shop, they are used in medical scenarios in order to identify types of tumors for cancer detection. From this little sample of use cases, it is pretty obvious that this is a really powerful (and pretty cool) use for a powerful algorithm.\n",
        "\n",
        "## Example Code"
      ],
      "id": "cb68dc3e"
    },
    {
      "cell_type": "code",
      "metadata": {},
      "source": [
        "#importing necessary packages\n",
        "from sklearn.mixture import GaussianMixture\n",
        "from sklearn.datasets import make_blobs\n",
        "import matplotlib.pyplot as plt \n",
        "import pandas as pd \n",
        "import numpy as np\n",
        "from numpy import random\n",
        "from urllib.request import urlopen\n",
        "from bs4 import BeautifulSoup\n",
        "import seaborn as sns "
      ],
      "id": "d7a29027",
      "execution_count": null,
      "outputs": []
    },
    {
      "cell_type": "markdown",
      "metadata": {},
      "source": [
        "To show how effective this algorithm can be, I am going to make a set of five blobs of data, each with a center, and then I will show how accurately the algorithm can cluster the data into the blobs that created the underlying data.\n"
      ],
      "id": "fcbcd7c1"
    },
    {
      "cell_type": "code",
      "metadata": {},
      "source": [
        "#set a random seed so that we actually get clusters that kind of look like separate clusters\n",
        "random.seed(195)\n",
        "x, _ = make_blobs(n_samples=450, centers=5, cluster_std=1.84)\n",
        "plt.figure(figsize=(8, 6))\n",
        "plt.scatter(x[:,0], x[:,1])\n",
        "plt.show() "
      ],
      "id": "e3aac9fb",
      "execution_count": null,
      "outputs": []
    },
    {
      "cell_type": "markdown",
      "metadata": {},
      "source": [
        "Now I'm going to fit the algorithm with the prior understanding that the data is made of five clusters of approximately normal data.\n"
      ],
      "id": "ea782d38"
    },
    {
      "cell_type": "code",
      "metadata": {},
      "source": [
        "#| echo: false\n",
        "gm = GaussianMixture(n_components=5).fit(x)\n",
        "\n",
        "gm.get_params() \n",
        "\n",
        "{'covariance_type': 'full',\n",
        " 'init_params': 'kmeans',\n",
        " 'max_iter': 100,\n",
        " 'means_init': None,\n",
        " 'n_components': 5,\n",
        " 'n_init': 1,\n",
        " 'precisions_init': None,\n",
        " 'random_state': None,\n",
        " 'reg_covar': 1e-06,\n",
        " 'tol': 0.001,\n",
        " 'verbose': 0,\n",
        " 'verbose_interval': 10,\n",
        " 'warm_start': False,\n",
        " 'weights_init': None} "
      ],
      "id": "2a42015b",
      "execution_count": null,
      "outputs": []
    },
    {
      "cell_type": "markdown",
      "metadata": {},
      "source": [
        "This code here fits the model and lets it learn from the data, in the next plot, I will plot the centers that the data came up with, and then on the plot after that I will plot the boundaries for the clusters that the algorithm came up with.\n"
      ],
      "id": "629034a5"
    },
    {
      "cell_type": "code",
      "metadata": {},
      "source": [
        "centers = gm.means_\n",
        "plt.figure(figsize=(8, 6))\n",
        "plt.scatter(x[:,0], x[:,1], label=\"data\")\n",
        "plt.scatter(centers[:,0], centers[:,1],c='r', label=\"centers\")\n",
        "plt.legend()\n",
        "plt.show() "
      ],
      "id": "fa4cb16a",
      "execution_count": null,
      "outputs": []
    },
    {
      "cell_type": "code",
      "metadata": {},
      "source": [
        "pred = gm.predict(x)\n",
        "\n",
        "df = pd.DataFrame({'x':x[:,0], 'y':x[:,1], 'label':pred})\n",
        "groups = df.groupby('label')\n",
        "\n",
        "ig, ax = plt.subplots()\n",
        "for name, group in groups:\n",
        "    ax.scatter(group.x, group.y, label=name)\n",
        "\n",
        "ax.legend()\n",
        "plt.show() "
      ],
      "id": "c03c886f",
      "execution_count": null,
      "outputs": []
    },
    {
      "cell_type": "markdown",
      "metadata": {},
      "source": [
        "The accuracy is really fantastic. It plots the centers exactly where I would have, and then is able to pick which dots it belongs to which groups with great accuracy. \n",
        "\n",
        "Now if we consider a dataset with millions of points and possibly hundreds or thousands of dimensions, this allows for very sensitive anomaly detection for genetic disorders by clustering genes or proteins it helps us see just how helpful this could be.\n",
        "\n",
        "## The NBA\n",
        "\n",
        "![](nbaPic.jpeg){width=\"50%\"}\n",
        "\n",
        "Basketball as a sport is changing. Players like Stephen Curry have changed perceptions around what a point guard is supposed to do, Nikola Jokic is reinventing the center position, and some teams are playing with centers who are shorter than 6'5. Another even bigger change is the advent of extremely tall players playing seemingly positionless basketball, the trend started by players such as Kevin Durant and Kristaps Porzingis, and continued by younger players like Chet Holmgren and Victor Wembanyama.\n",
        "\n",
        "People are playing basketball differently. To effectively understand the game, the old labels of point guard, shooting guard, center, power forward, and small forward don't seem to suffice, which means that we want to find new labels for positions in order to regroup players.\n",
        "\n",
        "This seems to be a problem uniquely well suited to clustering. I plan on looking at a few things, how the clusters of players in the modern NBA compare to the positions that players are assigned to. Secondly, I am curious if the NBA has become more specialized, i.e. if there are more than five positions, and players are acquired and used for more specific purposes than in the past. To answer these questions, even just a little bit, I plan on clustering players from the 2022 season (stats acquired from Basketball Reference) and answering my first question using that data and model, and then taking in data from the 1986 season (that was fun and long enough ago to measure change) and looking at the difference in number of clusters for those seasons.\n"
      ],
      "id": "7754c62b"
    },
    {
      "cell_type": "code",
      "metadata": {},
      "source": [
        "# | output: false\n",
        "year = 2022\n",
        "url = 'https://www.basketball-reference.com/leagues/NBA_2022_per_game.html'\n",
        "html = urlopen(url)\n",
        "org_html = BeautifulSoup(html)\n",
        "#this reads in data from an html file from basketball reference. I took this code from the documentation of an api for basketball data but I didn't like their functionality and so I just altered their source code to get my own thing :) the api was nba_api on PyPI\n",
        "\n",
        "org_html.findAll('tr', limit=2) #this should get me the columns from the website.\n",
        "headers = [th.getText() for th in org_html.findAll('tr', limit=2)[0].findAll('th')]\n",
        "headers = headers[1:]\n",
        "headers"
      ],
      "id": "fc7a3cee",
      "execution_count": null,
      "outputs": []
    },
    {
      "cell_type": "code",
      "metadata": {},
      "source": [
        "# | output: false\n",
        "#now we want to turn this mess of text we ripped from html into a dataframe (thumbs up emoji)\n",
        "\n",
        "rows = org_html.findAll('tr')[1:]\n",
        "player_stats = [[td.getText() for td in rows[i].findAll('td')]\n",
        "            for i in range(len(rows))]\n",
        "data = pd.DataFrame(player_stats, columns = headers)\n",
        "data.head() #YAYYYYY\n",
        "data.tail()"
      ],
      "id": "f87695a8",
      "execution_count": null,
      "outputs": []
    },
    {
      "cell_type": "markdown",
      "metadata": {},
      "source": [
        "There are a few instances of the same player showing multiple times in the dataframe since people were traded and played for different teams throughout the season, so I took the averages of all of their values to create a set of stats for the season for them.\n"
      ],
      "id": "67061cad"
    },
    {
      "cell_type": "code",
      "metadata": {},
      "source": [
        "data=data.drop(columns=['Pos', 'Age', 'Tm', 'G', 'GS'], axis=1)"
      ],
      "id": "089d84ea",
      "execution_count": null,
      "outputs": []
    },
    {
      "cell_type": "code",
      "metadata": {},
      "source": [
        "#| echo: false\n",
        "#| output: false\n",
        "rep = data.Player.value_counts() ## Here is the list of such players\n",
        "rep\n",
        "pl = np.where([rep > 1])[1]\n",
        "pl\n",
        "grp = data.groupby([\"Player\"])          ## Grouping the same datapoints together. \n",
        "grp = grp.mean()  "
      ],
      "id": "e3a8d3ab",
      "execution_count": null,
      "outputs": []
    },
    {
      "cell_type": "markdown",
      "metadata": {},
      "source": [
        "So now that we have this data, I will take all of the features besides position, age, team, games played, and games started and will use them to create clusters so we can start to draw some conclusions. We should feel pretty good about modeling the clusters as gaussian since there are over eight hundred players that played in 2022 which means we should feel alright about assuming normality across each predictor.\n"
      ],
      "id": "accdd2e1"
    },
    {
      "cell_type": "code",
      "metadata": {},
      "source": [
        "X = data.copy(deep=True)\n",
        "X = X.drop(\"Player\", axis = 1)"
      ],
      "id": "8bcfb7a9",
      "execution_count": null,
      "outputs": []
    },
    {
      "cell_type": "code",
      "metadata": {},
      "source": [
        "model = GaussianMixture(n_components= 5, random_state=0).fit(X)"
      ],
      "id": "ca7d0426",
      "execution_count": null,
      "outputs": []
    }
  ],
  "metadata": {
    "kernelspec": {
      "name": "python3",
      "language": "python",
      "display_name": "Python 3 (ipykernel)"
    }
  },
  "nbformat": 4,
  "nbformat_minor": 5
}